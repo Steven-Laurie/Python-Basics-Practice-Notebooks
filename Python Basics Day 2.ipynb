{
 "cells": [
  {
   "cell_type": "markdown",
   "id": "bdab3866-14ce-4a42-ac47-1d623928d058",
   "metadata": {
    "jp-MarkdownHeadingCollapsed": true,
    "tags": []
   },
   "source": [
    "# Shortcut Operators\n"
   ]
  },
  {
   "cell_type": "raw",
   "id": "9193a0f3-8e91-406f-98a5-51e3ed6c4550",
   "metadata": {},
   "source": [
    "Expression              Shortcut Operator\n",
    "i = i+2                 i +=2 \n",
    "var = var/2             var /=2\n",
    "rem = rem%10            rem %=10\n",
    "j = j-(i+var+rem)       j-=(i+var+rem)\n",
    "x = x**2                x **=2"
   ]
  },
  {
   "cell_type": "code",
   "execution_count": 3,
   "id": "bb98b525-ea75-4a52-9399-743fed52e018",
   "metadata": {
    "tags": []
   },
   "outputs": [
    {
     "name": "stdout",
     "output_type": "stream",
     "text": [
      "4\n"
     ]
    }
   ],
   "source": [
    "x = 2 \n",
    "x = x * 2 \n",
    "print(x)"
   ]
  },
  {
   "cell_type": "code",
   "execution_count": 2,
   "id": "2a4eb83f-1176-4e61-9db9-87ef1ba5ab8d",
   "metadata": {
    "tags": []
   },
   "outputs": [
    {
     "name": "stdout",
     "output_type": "stream",
     "text": [
      "4\n"
     ]
    }
   ],
   "source": [
    "x = 2\n",
    "x *= 2 \n",
    "print(x)"
   ]
  },
  {
   "cell_type": "code",
   "execution_count": 7,
   "id": "c008db08-b6de-43c8-8b31-afcda33ac1cf",
   "metadata": {
    "tags": []
   },
   "outputs": [
    {
     "name": "stdout",
     "output_type": "stream",
     "text": [
      "4\n"
     ]
    }
   ],
   "source": [
    "y = 2 \n",
    "y **=2\n",
    "print (y)"
   ]
  },
  {
   "cell_type": "code",
   "execution_count": 122,
   "id": "2d5bacf9-a84a-4cb3-99d0-7bf827e95028",
   "metadata": {
    "tags": []
   },
   "outputs": [
    {
     "name": "stdout",
     "output_type": "stream",
     "text": [
      "8\n"
     ]
    }
   ],
   "source": [
    "k =125\n",
    "k %=13\n",
    "# k = k % 13\n",
    "print(k)"
   ]
  },
  {
   "cell_type": "markdown",
   "id": "8ea5abfa-3827-438d-993a-89eafde1bacc",
   "metadata": {
    "tags": []
   },
   "source": [
    "# Comparison Operators"
   ]
  },
  {
   "cell_type": "code",
   "execution_count": 18,
   "id": "6cfdf9cf-ca19-4149-9863-6ebf4767c0ef",
   "metadata": {
    "tags": []
   },
   "outputs": [],
   "source": [
    "# Comparison Operators are used to check if two variables are the same and will provide a boolean answer (true/false)"
   ]
  },
  {
   "cell_type": "code",
   "execution_count": 121,
   "id": "78fa4d66-fa38-40d9-a5d1-dd9c45e0df13",
   "metadata": {
    "tags": []
   },
   "outputs": [
    {
     "name": "stdout",
     "output_type": "stream",
     "text": [
      "False\n"
     ]
    }
   ],
   "source": [
    "print(12==10)"
   ]
  },
  {
   "cell_type": "code",
   "execution_count": null,
   "id": "e8b87608-03be-4953-a630-8fe533a71ff7",
   "metadata": {},
   "outputs": [],
   "source": [
    "# > is used for greater than, < is used for less than"
   ]
  },
  {
   "cell_type": "code",
   "execution_count": 17,
   "id": "6ddb8f58-ecdd-4b16-9af4-8e5c557dc4bb",
   "metadata": {
    "tags": []
   },
   "outputs": [
    {
     "name": "stdout",
     "output_type": "stream",
     "text": [
      "False\n"
     ]
    }
   ],
   "source": [
    "print(11<10)"
   ]
  },
  {
   "cell_type": "code",
   "execution_count": 123,
   "id": "a1e71853-fc3c-49ce-aeeb-9551ad3b9ed3",
   "metadata": {
    "tags": []
   },
   "outputs": [
    {
     "name": "stdout",
     "output_type": "stream",
     "text": [
      "True\n"
     ]
    }
   ],
   "source": [
    "print(11>10)"
   ]
  },
  {
   "cell_type": "code",
   "execution_count": 124,
   "id": "dbb970e4-6270-45ee-a4d3-08bdf0599130",
   "metadata": {
    "tags": []
   },
   "outputs": [
    {
     "name": "stdout",
     "output_type": "stream",
     "text": [
      "True\n"
     ]
    }
   ],
   "source": [
    "print(11<14)"
   ]
  },
  {
   "cell_type": "code",
   "execution_count": null,
   "id": "f3bbd12f-0dad-4ca2-83aa-846b0ec7b710",
   "metadata": {},
   "outputs": [],
   "source": [
    "# ! is used to ask if they are not equal"
   ]
  },
  {
   "cell_type": "code",
   "execution_count": 15,
   "id": "ef674e82-9bab-4625-b88c-34d779de30e0",
   "metadata": {
    "tags": []
   },
   "outputs": [
    {
     "name": "stdout",
     "output_type": "stream",
     "text": [
      "False\n"
     ]
    }
   ],
   "source": [
    "print(14!=14)"
   ]
  },
  {
   "cell_type": "code",
   "execution_count": 20,
   "id": "dad25817-eebd-474f-b706-1dfa29f3a7c9",
   "metadata": {
    "tags": []
   },
   "outputs": [
    {
     "name": "stdout",
     "output_type": "stream",
     "text": [
      "True\n"
     ]
    }
   ],
   "source": [
    "print(12!=14)"
   ]
  },
  {
   "cell_type": "markdown",
   "id": "9a1958f9-b2ea-4ddd-929b-8ac3ab478552",
   "metadata": {
    "jp-MarkdownHeadingCollapsed": true,
    "tags": []
   },
   "source": [
    "# Using one of the comparison operators in Python, write a simple two-line program that takes the parameter n as input, which is an integer, and prints False if n is less than 100, and True if n is greater than or equal to 100. "
   ]
  },
  {
   "cell_type": "code",
   "execution_count": 46,
   "id": "4aae042d-1fe6-4fe2-8473-b32636e37a28",
   "metadata": {
    "tags": []
   },
   "outputs": [
    {
     "name": "stdin",
     "output_type": "stream",
     "text": [
      "Enter a number 50\n"
     ]
    },
    {
     "name": "stdout",
     "output_type": "stream",
     "text": [
      "False\n"
     ]
    }
   ],
   "source": [
    "n = int(input(\"Enter a number\"))\n",
    "print(n>=100)"
   ]
  },
  {
   "cell_type": "markdown",
   "id": "da56a5a7-f27b-4a3f-96cf-088b83e27c48",
   "metadata": {
    "jp-MarkdownHeadingCollapsed": true,
    "tags": []
   },
   "source": [
    "# Conditional Statements"
   ]
  },
  {
   "cell_type": "code",
   "execution_count": 48,
   "id": "e20bea49-2765-4192-8f84-6748369515b9",
   "metadata": {
    "tags": []
   },
   "outputs": [
    {
     "name": "stdin",
     "output_type": "stream",
     "text": [
      "Please enter an interger number: 4\n"
     ]
    }
   ],
   "source": [
    "n = int(input(\"Please enter an interger number:\"))\n",
    "if n==5:\n",
    "    print(\"You entered 5.\")"
   ]
  },
  {
   "cell_type": "code",
   "execution_count": 63,
   "id": "5f190d7c-91c8-4969-8e7f-e4590e81f087",
   "metadata": {
    "tags": []
   },
   "outputs": [
    {
     "name": "stdin",
     "output_type": "stream",
     "text": [
      "Please enter an interger number: 7\n"
     ]
    },
    {
     "name": "stdout",
     "output_type": "stream",
     "text": [
      "You entered 7\n"
     ]
    }
   ],
   "source": [
    "n = int(input(\"Please enter an interger number:\"))\n",
    "if n==5:\n",
    "    print(\"You entered 5.\")\n",
    "else:\n",
    "    print(\"You entered\", n)"
   ]
  },
  {
   "cell_type": "code",
   "execution_count": 67,
   "id": "b028f177-c96e-4fd0-a719-b50245bca837",
   "metadata": {
    "tags": []
   },
   "outputs": [
    {
     "name": "stdin",
     "output_type": "stream",
     "text": [
      "Please enter the number 5: 5\n"
     ]
    },
    {
     "name": "stdout",
     "output_type": "stream",
     "text": [
      "You entered 5.\n"
     ]
    }
   ],
   "source": [
    "n = int(input(\"Please enter the number 5:\"))\n",
    "if n==5:\n",
    "    print(\"You entered 5.\")\n",
    "else:\n",
    "    print(\"You did not enter 5\")"
   ]
  },
  {
   "cell_type": "code",
   "execution_count": 71,
   "id": "cb2632b4-4103-4fbb-a2c7-acfc31ed3811",
   "metadata": {
    "tags": []
   },
   "outputs": [
    {
     "name": "stdin",
     "output_type": "stream",
     "text": [
      "Please enter the number 5: 6\n"
     ]
    },
    {
     "name": "stdout",
     "output_type": "stream",
     "text": [
      "You did not enter 5.\n"
     ]
    }
   ],
   "source": [
    "n = int(input(\"Please enter the number 5:\"))\n",
    "if n!=5:\n",
    "    print(\"You did not enter 5.\")\n",
    "else:\n",
    "    print(\"You entered 5\")"
   ]
  },
  {
   "cell_type": "code",
   "execution_count": 83,
   "id": "f9002b67-32e4-4d58-aefb-f6278a6387f4",
   "metadata": {
    "tags": []
   },
   "outputs": [
    {
     "name": "stdin",
     "output_type": "stream",
     "text": [
      "Please enter a number 99\n"
     ]
    },
    {
     "name": "stdout",
     "output_type": "stream",
     "text": [
      "99 is not greater than or equal to 100.\n"
     ]
    }
   ],
   "source": [
    "n = int(input(\"Please enter a number\"))\n",
    "\n",
    "if n >=100: \n",
    "    print(n,\"is greater than or equal to 100.\")\n",
    "else:\n",
    "    print(n, \"is not greater than or equal to 100.\")\n"
   ]
  },
  {
   "cell_type": "code",
   "execution_count": 132,
   "id": "846d6c5e-d249-47d2-b8d8-9f07d30cd370",
   "metadata": {
    "tags": []
   },
   "outputs": [
    {
     "name": "stdin",
     "output_type": "stream",
     "text": [
      "Please enter a number 5\n",
      "Please enter another number 4\n"
     ]
    },
    {
     "name": "stdout",
     "output_type": "stream",
     "text": [
      "5 is greater than 4\n"
     ]
    }
   ],
   "source": [
    "x = int(input(\"Please enter a number\"))\n",
    "y = int(input(\"Please enter another number\"))    \n",
    "\n",
    "if x>y:\n",
    "    print(x, \"is greater than\", y)\n",
    "elif x==y:\n",
    "    print(x, \"is equal to\", y)\n",
    "else:\n",
    "    print(x, \"is not greater than\", y)"
   ]
  },
  {
   "cell_type": "markdown",
   "id": "95ef243f-ce0c-46c1-b1c0-654399ca76e2",
   "metadata": {
    "tags": []
   },
   "source": [
    "# Python Program to Check if a Number is Positive, Negative or Zero"
   ]
  },
  {
   "cell_type": "code",
   "execution_count": 143,
   "id": "7a955e01-124e-427e-95cd-f5030f56a41d",
   "metadata": {
    "tags": []
   },
   "outputs": [
    {
     "name": "stdin",
     "output_type": "stream",
     "text": [
      "Please enter a number -1\n"
     ]
    },
    {
     "name": "stdout",
     "output_type": "stream",
     "text": [
      "-1 is a negative value\n"
     ]
    }
   ],
   "source": [
    "x = int(input(\"Please enter a number\"))\n",
    "if x>0:\n",
    "    print(x, \"is a postive value\")\n",
    "elif x==0:\n",
    "    print(x, \"is equal to 0\")\n",
    "else:\n",
    "    print(x, \"is a negative value\")"
   ]
  },
  {
   "cell_type": "code",
   "execution_count": 157,
   "id": "e1b321aa-e2f8-4ad7-9020-4b674fb8b90c",
   "metadata": {
    "tags": []
   },
   "outputs": [
    {
     "name": "stdin",
     "output_type": "stream",
     "text": [
      "Please enter a number 5\n"
     ]
    },
    {
     "name": "stdout",
     "output_type": "stream",
     "text": [
      "5 is an odd number\n"
     ]
    }
   ],
   "source": [
    "x = int(input(\"Please enter a number\"))\n",
    "if x%2==0:\n",
    "    print(x, \"is an even number\")\n",
    "else: \n",
    "    print(x, \"is an odd number\")"
   ]
  },
  {
   "cell_type": "code",
   "execution_count": 162,
   "id": "228ae923-9bc5-4299-851c-33c9966f2d2c",
   "metadata": {
    "tags": []
   },
   "outputs": [
    {
     "name": "stdin",
     "output_type": "stream",
     "text": [
      "please enter a number:  5\n"
     ]
    },
    {
     "name": "stdout",
     "output_type": "stream",
     "text": [
      "this number is odd\n"
     ]
    }
   ],
   "source": [
    "val = int(input(\"please enter a number: \")) \n",
    "if (val%2==0): \n",
    "         print(\"this number is even\") \n",
    "else: \n",
    "         print(\"this number is odd\") "
   ]
  },
  {
   "cell_type": "markdown",
   "id": "b105a7aa-15f6-41b0-8554-807f31cfa627",
   "metadata": {
    "jp-MarkdownHeadingCollapsed": true,
    "tags": []
   },
   "source": [
    "# While Loop"
   ]
  },
  {
   "cell_type": "code",
   "execution_count": 163,
   "id": "1ee7579f-ac19-4df6-b107-69ba5f9c8c35",
   "metadata": {
    "tags": []
   },
   "outputs": [
    {
     "name": "stdout",
     "output_type": "stream",
     "text": [
      "1\n",
      "2\n",
      "3\n",
      "4\n",
      "5\n"
     ]
    }
   ],
   "source": [
    "i = 1 \n",
    "while i <6:\n",
    "    print(i)\n",
    "    i +=1"
   ]
  },
  {
   "cell_type": "code",
   "execution_count": 171,
   "id": "a4fa9995-8ec3-4174-bad4-1a8ef2fe79af",
   "metadata": {
    "tags": []
   },
   "outputs": [
    {
     "name": "stdout",
     "output_type": "stream",
     "text": [
      "1\n",
      "2\n",
      "3\n"
     ]
    }
   ],
   "source": [
    "i = 1 \n",
    "while i < 6:\n",
    "    print(i)\n",
    "    if i == 3:\n",
    "        break \n",
    "    i += 1"
   ]
  },
  {
   "cell_type": "markdown",
   "id": "165e69a2-89cf-4fc2-9307-578f6a3f2835",
   "metadata": {
    "jp-MarkdownHeadingCollapsed": true,
    "tags": []
   },
   "source": [
    "# Create a while loop that counts from 1 to 10 and prints odd numbers to the screen. Use the skeleton below: \n",
    "\n",
    "x = 1 \n",
    "\n",
    "while x < 11: \n",
    "\n",
    "    # Line of code. \n",
    "\n",
    "        # Line of code. \n",
    "\n",
    "    # Line of code "
   ]
  },
  {
   "cell_type": "code",
   "execution_count": null,
   "id": "ba3bca93-71ab-41eb-81fa-8dd19330938a",
   "metadata": {
    "tags": []
   },
   "outputs": [],
   "source": [
    "x = 1 \n",
    "\n",
    "while x < 11: \n",
    "    print(i)\n",
    "    if i == 11:\n",
    "        break\n",
    "    i += 1"
   ]
  },
  {
   "cell_type": "code",
   "execution_count": 11,
   "id": "b82d0cd7-2cdc-4aad-8465-42fb247fd9db",
   "metadata": {},
   "outputs": [
    {
     "name": "stdout",
     "output_type": "stream",
     "text": [
      "1\n",
      "3\n",
      "5\n",
      "7\n",
      "9\n"
     ]
    }
   ],
   "source": [
    "i = 1 \n",
    "while i <= 10: \n",
    "     print(i) \n",
    "     i+=2 "
   ]
  },
  {
   "cell_type": "code",
   "execution_count": 10,
   "id": "cfe948be-35cc-4729-a154-abf10302c2d3",
   "metadata": {
    "tags": []
   },
   "outputs": [
    {
     "name": "stdout",
     "output_type": "stream",
     "text": [
      "1\n",
      "3\n",
      "5\n",
      "7\n",
      "9\n"
     ]
    }
   ],
   "source": [
    "i = 1 \n",
    "while i < 11: \n",
    "    print(i) \n",
    "    if i == 10: \n",
    "         break \n",
    "    i += 2 "
   ]
  },
  {
   "cell_type": "code",
   "execution_count": 55,
   "id": "19756606-b08e-477f-927b-858086082077",
   "metadata": {
    "tags": []
   },
   "outputs": [
    {
     "name": "stdout",
     "output_type": "stream",
     "text": [
      "Guess a number between 1-20\n"
     ]
    },
    {
     "name": "stdin",
     "output_type": "stream",
     "text": [
      " 0\n"
     ]
    },
    {
     "name": "stdout",
     "output_type": "stream",
     "text": [
      "Negative value\n",
      "above 0\n",
      "Little higher\n"
     ]
    }
   ],
   "source": [
    "print(\"Guess a number between 1-20\")\n",
    "# y = 12\n",
    "x = int(input())\n",
    "\n",
    "if x<=0:\n",
    "    print(\"Negative value\")\n",
    "print(\"above 0\")\n",
    "if x==y:\n",
    "    print(\"Correct!\")\n",
    "elif x>=y:\n",
    "        print(\"Little lower\")\n",
    "else:\n",
    "    if x<=y:\n",
    "        print(\"Little higher\")"
   ]
  },
  {
   "cell_type": "code",
   "execution_count": 67,
   "id": "c187b93c-c726-4844-9e3d-4e80e866d051",
   "metadata": {
    "tags": []
   },
   "outputs": [
    {
     "name": "stdout",
     "output_type": "stream",
     "text": [
      "Guess a number between 1-20\n"
     ]
    },
    {
     "name": "stdin",
     "output_type": "stream",
     "text": [
      " 12\n"
     ]
    },
    {
     "name": "stdout",
     "output_type": "stream",
     "text": [
      "Correct!\n"
     ]
    }
   ],
   "source": [
    "print(\"Guess a number between 1-20\")\n",
    "y = 12\n",
    "x = int(input())\n",
    "if x==y:\n",
    "    print(\"Correct!\")\n",
    "elif x>=y:\n",
    "        print(\"Little lower\")\n",
    "else:\n",
    "    if x<=y:\n",
    "        print(\"Little higher\")"
   ]
  },
  {
   "cell_type": "code",
   "execution_count": 76,
   "id": "b7fddbe3-5343-4cc1-86fe-ee8c4051fb7b",
   "metadata": {
    "tags": []
   },
   "outputs": [
    {
     "name": "stdin",
     "output_type": "stream",
     "text": [
      "Please enter a number 15\n"
     ]
    },
    {
     "name": "stdout",
     "output_type": "stream",
     "text": [
      "Correct!\n"
     ]
    }
   ],
   "source": [
    "y = 15\n",
    "x = int(input(\"Please enter a number\"))\n",
    "if x==y:\n",
    "    print(\"Correct!\")\n",
    "elif x>=y:\n",
    "        print(\"Little lower\")\n",
    "else:\n",
    "    if x<=y:\n",
    "        print(\"Little higher\")"
   ]
  },
  {
   "cell_type": "code",
   "execution_count": 108,
   "id": "5f7411ae-a6fa-4cdc-8e49-c0b3bc707727",
   "metadata": {},
   "outputs": [
    {
     "name": "stdout",
     "output_type": "stream",
     "text": [
      "Hey, guess my number between 1 and 20!\n"
     ]
    },
    {
     "name": "stdin",
     "output_type": "stream",
     "text": [
      "What's your guess?\n",
      " 1\n"
     ]
    },
    {
     "name": "stdout",
     "output_type": "stream",
     "text": [
      "Little higher!\n"
     ]
    },
    {
     "name": "stdin",
     "output_type": "stream",
     "text": [
      "What's your guess?\n",
      " -1\n"
     ]
    },
    {
     "name": "stdout",
     "output_type": "stream",
     "text": [
      "Little higher!\n"
     ]
    },
    {
     "name": "stdin",
     "output_type": "stream",
     "text": [
      "What's your guess?\n",
      " 11\n"
     ]
    },
    {
     "name": "stdout",
     "output_type": "stream",
     "text": [
      "Little higher!\n"
     ]
    },
    {
     "name": "stdin",
     "output_type": "stream",
     "text": [
      "What's your guess?\n",
      " 12\n"
     ]
    },
    {
     "name": "stdout",
     "output_type": "stream",
     "text": [
      "So close! Just a little more!\n"
     ]
    },
    {
     "name": "stdin",
     "output_type": "stream",
     "text": [
      "What's your guess?\n",
      " 14\n"
     ]
    },
    {
     "name": "stdout",
     "output_type": "stream",
     "text": [
      "So close! Just a little less!\n"
     ]
    },
    {
     "name": "stdin",
     "output_type": "stream",
     "text": [
      "What's your guess?\n",
      " 13\n"
     ]
    },
    {
     "name": "stdout",
     "output_type": "stream",
     "text": [
      "You guessed it! My number was 13 !\n"
     ]
    }
   ],
   "source": [
    "n = 13 \n",
    "userval = 0 \n",
    "print(\"Hey, guess my number between 1 and 20!\") \n",
    "while userval != n: \n",
    "     userval = int(input(\"What's your guess?\\n\")) \n",
    "     if userval-n == 1: \n",
    "         print(\"So close! Just a little less!\") \n",
    " \n",
    "     elif userval-n == -1: \n",
    "         print(\"So close! Just a little more!\") \n",
    " \n",
    "     elif userval < n: \n",
    "         print(\"Little higher!\") \n",
    " \n",
    "     elif userval > n: \n",
    "         print(\"Little lower!\") \n",
    " \n",
    "     else: \n",
    "         print(\"You guessed it! My number was\", n, \"!\") "
   ]
  },
  {
   "cell_type": "markdown",
   "id": "d98c3284-6b46-46db-894a-eba7d46ebd01",
   "metadata": {
    "jp-MarkdownHeadingCollapsed": true,
    "tags": []
   },
   "source": [
    "# For Loop"
   ]
  },
  {
   "cell_type": "code",
   "execution_count": null,
   "id": "7e523a0a-b891-4354-9127-e9e2357cadca",
   "metadata": {},
   "outputs": [],
   "source": [
    "# A for loop is used for iterating over a sequences (that is either a list, a tuple, a dictionary, a set, or a string"
   ]
  },
  {
   "cell_type": "code",
   "execution_count": 112,
   "id": "2f47ce82-7cfd-44ad-8194-906a0c88f980",
   "metadata": {
    "tags": []
   },
   "outputs": [
    {
     "name": "stdout",
     "output_type": "stream",
     "text": [
      "6\n",
      "b\n",
      "a\n",
      "n\n",
      "a\n",
      "n\n",
      "a\n"
     ]
    }
   ],
   "source": [
    "fruit = \"banana\"\n",
    "print(len(fruit))\n",
    "\n",
    "for x in fruit:\n",
    "    print(x)"
   ]
  },
  {
   "cell_type": "code",
   "execution_count": 114,
   "id": "8d4582eb-e79d-4a3d-bde8-c7da9a4d0a07",
   "metadata": {
    "tags": []
   },
   "outputs": [
    {
     "name": "stdout",
     "output_type": "stream",
     "text": [
      "Elements S\n",
      "Elements t\n",
      "Elements e\n",
      "Elements v\n",
      "Elements e\n",
      "Elements n\n"
     ]
    }
   ],
   "source": [
    "myname = \"Steven\"\n",
    "for x in myname:\n",
    "    print(\"Elements\", x)"
   ]
  },
  {
   "cell_type": "code",
   "execution_count": 115,
   "id": "f1e25fff-989a-4f2a-8cd6-f7dc2092dc6e",
   "metadata": {
    "tags": []
   },
   "outputs": [
    {
     "name": "stdout",
     "output_type": "stream",
     "text": [
      "1\n",
      "B\n",
      "A\n",
      "2\n",
      "C\n"
     ]
    }
   ],
   "source": [
    "myid = \"1BA2C\"\n",
    "for i in myid:\n",
    "    print(i)"
   ]
  },
  {
   "cell_type": "raw",
   "id": "036c376f-0462-49bf-a836-04adcc649326",
   "metadata": {
    "tags": []
   },
   "source": [
    "fruits = [\"apple\", \"banana\", \"cherry\"]\n",
    "\n",
    "print(len(fruits))\n",
    "for i in fruits:\n",
    "    print(i)"
   ]
  },
  {
   "cell_type": "code",
   "execution_count": 121,
   "id": "93d12c4a-156b-4d77-9c97-6b926c6ca320",
   "metadata": {
    "tags": []
   },
   "outputs": [
    {
     "name": "stdout",
     "output_type": "stream",
     "text": [
      "5\n",
      "6\n",
      "7\n",
      "8\n",
      "9\n",
      "10\n"
     ]
    }
   ],
   "source": [
    "for i in range(5,11):\n",
    "    print(i)"
   ]
  },
  {
   "cell_type": "code",
   "execution_count": null,
   "id": "711d6edd-5742-47a6-983f-00d84c45ada6",
   "metadata": {},
   "outputs": [],
   "source": [
    "#Use for loop to print all the numbers between 0 and 20"
   ]
  },
  {
   "cell_type": "code",
   "execution_count": 126,
   "id": "2d168c7d-cdbc-455b-90d3-9c28b700a631",
   "metadata": {
    "tags": []
   },
   "outputs": [
    {
     "name": "stdout",
     "output_type": "stream",
     "text": [
      "0\n",
      "1\n",
      "2\n",
      "3\n",
      "4\n",
      "5\n",
      "6\n",
      "7\n",
      "8\n",
      "9\n",
      "10\n",
      "11\n",
      "12\n",
      "13\n",
      "14\n",
      "15\n",
      "16\n",
      "17\n",
      "18\n",
      "19\n",
      "20\n"
     ]
    }
   ],
   "source": [
    "for i in range(0,21):\n",
    "    print(i)"
   ]
  },
  {
   "cell_type": "code",
   "execution_count": null,
   "id": "e90458cd-d80f-450b-b1dd-01bb4e115217",
   "metadata": {},
   "outputs": [],
   "source": [
    "#Use for loop to print all even numbers between 0 and 15"
   ]
  },
  {
   "cell_type": "code",
   "execution_count": 153,
   "id": "c42c699b-5c1d-4197-97b1-f305b431e38b",
   "metadata": {
    "tags": []
   },
   "outputs": [
    {
     "name": "stdout",
     "output_type": "stream",
     "text": [
      "0\n",
      "2\n",
      "4\n",
      "6\n",
      "8\n",
      "10\n",
      "12\n",
      "14\n"
     ]
    }
   ],
   "source": [
    "for i in range(0,15):\n",
    "    if i %2==0:\n",
    "        print(i)"
   ]
  },
  {
   "cell_type": "code",
   "execution_count": 177,
   "id": "c180125a-224d-4c37-ab87-fbaf0cfc331a",
   "metadata": {
    "tags": []
   },
   "outputs": [
    {
     "name": "stdout",
     "output_type": "stream",
     "text": [
      "1\n",
      "3\n",
      "5\n",
      "7\n",
      "9\n",
      "11\n",
      "13\n"
     ]
    }
   ],
   "source": [
    "for i in range(1,15,2):\n",
    "    print(i)"
   ]
  },
  {
   "cell_type": "markdown",
   "id": "eff142e7-8b08-4cc2-b524-7d2cafae0aa7",
   "metadata": {
    "tags": []
   },
   "source": [
    "#Find and print multiples of 5 between 0 and 100."
   ]
  },
  {
   "cell_type": "code",
   "execution_count": 180,
   "id": "ec8f78fc-5e34-4ec5-a8f6-49977e564b81",
   "metadata": {
    "tags": []
   },
   "outputs": [
    {
     "name": "stdout",
     "output_type": "stream",
     "text": [
      "0\n",
      "5\n",
      "10\n",
      "15\n",
      "20\n",
      "25\n",
      "30\n",
      "35\n",
      "40\n",
      "45\n",
      "50\n",
      "55\n",
      "60\n",
      "65\n",
      "70\n",
      "75\n",
      "80\n",
      "85\n",
      "90\n",
      "95\n"
     ]
    }
   ],
   "source": [
    "for i in range(0,100,5):\n",
    "    print(i)"
   ]
  },
  {
   "cell_type": "markdown",
   "id": "95211d61-a570-4c73-a243-f89724b1afd9",
   "metadata": {
    "tags": []
   },
   "source": [
    "# Task: \n",
    "\n",
    "### Go through the integers from 1 to 100. \n",
    "\n",
    "### If a number is divisible by 3, print \"fizz.\" \n",
    "\n",
    "### If a number is divisible by 5, print \"buzz.\" \n",
    "\n",
    "### If a number is both divisible by 3 and by 5, print \"fizzbuzz.\" \n",
    "\n",
    "### Otherwise, print just the number."
   ]
  },
  {
   "cell_type": "code",
   "execution_count": 3,
   "id": "fbfd05c1-b7e2-4d97-bb3a-2876c3a1aa76",
   "metadata": {
    "tags": []
   },
   "outputs": [
    {
     "name": "stdout",
     "output_type": "stream",
     "text": [
      "1\n",
      "2\n",
      "Fizz\n",
      "4\n",
      "Buzz\n",
      "Fizz\n",
      "7\n",
      "8\n",
      "Fizz\n",
      "Buzz\n",
      "11\n",
      "Fizz\n",
      "13\n",
      "14\n",
      "FizzBuzz\n",
      "16\n",
      "17\n",
      "Fizz\n",
      "19\n",
      "Buzz\n",
      "Fizz\n",
      "22\n",
      "23\n",
      "Fizz\n",
      "Buzz\n",
      "26\n",
      "Fizz\n",
      "28\n",
      "29\n",
      "FizzBuzz\n",
      "31\n",
      "32\n",
      "Fizz\n",
      "34\n",
      "Buzz\n",
      "Fizz\n",
      "37\n",
      "38\n",
      "Fizz\n",
      "Buzz\n",
      "41\n",
      "Fizz\n",
      "43\n",
      "44\n",
      "FizzBuzz\n",
      "46\n",
      "47\n",
      "Fizz\n",
      "49\n",
      "Buzz\n",
      "Fizz\n",
      "52\n",
      "53\n",
      "Fizz\n",
      "Buzz\n",
      "56\n",
      "Fizz\n",
      "58\n",
      "59\n",
      "FizzBuzz\n",
      "61\n",
      "62\n",
      "Fizz\n",
      "64\n",
      "Buzz\n",
      "Fizz\n",
      "67\n",
      "68\n",
      "Fizz\n",
      "Buzz\n",
      "71\n",
      "Fizz\n",
      "73\n",
      "74\n",
      "FizzBuzz\n",
      "76\n",
      "77\n",
      "Fizz\n",
      "79\n",
      "Buzz\n",
      "Fizz\n",
      "82\n",
      "83\n",
      "Fizz\n",
      "Buzz\n",
      "86\n",
      "Fizz\n",
      "88\n",
      "89\n",
      "FizzBuzz\n",
      "91\n",
      "92\n",
      "Fizz\n",
      "94\n",
      "Buzz\n",
      "Fizz\n",
      "97\n",
      "98\n",
      "Fizz\n",
      "Buzz\n"
     ]
    }
   ],
   "source": [
    "for i in range(1, 101): \n",
    "     if i %3==0 and i %5==0: \n",
    "         print(\"FizzBuzz\") \n",
    "     elif i % 3 == 0: \n",
    "         print(\"Fizz\") \n",
    "     elif i % 5 == 0: \n",
    "         print(\"Buzz\") \n",
    "     else: \n",
    "         print(i) "
   ]
  },
  {
   "cell_type": "code",
   "execution_count": null,
   "id": "f770da64-7fdc-41aa-80f9-caf8776c4f3f",
   "metadata": {},
   "outputs": [],
   "source": []
  }
 ],
 "metadata": {
  "kernelspec": {
   "display_name": "Python 3 (ipykernel)",
   "language": "python",
   "name": "python3"
  },
  "language_info": {
   "codemirror_mode": {
    "name": "ipython",
    "version": 3
   },
   "file_extension": ".py",
   "mimetype": "text/x-python",
   "name": "python",
   "nbconvert_exporter": "python",
   "pygments_lexer": "ipython3",
   "version": "3.11.5"
  }
 },
 "nbformat": 4,
 "nbformat_minor": 5
}
