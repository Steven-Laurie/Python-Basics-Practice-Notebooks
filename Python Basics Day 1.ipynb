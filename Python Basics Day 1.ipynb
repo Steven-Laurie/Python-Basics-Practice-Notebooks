{
 "cells": [
  {
   "cell_type": "markdown",
   "id": "bfca845b-2ae7-48a0-a110-9b2f67858899",
   "metadata": {
    "jp-MarkdownHeadingCollapsed": true,
    "tags": []
   },
   "source": [
    "# Escape Characters "
   ]
  },
  {
   "cell_type": "code",
   "execution_count": 39,
   "id": "7199acee-4df3-4e3c-b230-0d1c92d5fec8",
   "metadata": {
    "tags": []
   },
   "outputs": [
    {
     "name": "stdout",
     "output_type": "stream",
     "text": [
      "It's alright.\n"
     ]
    }
   ],
   "source": [
    "# Single Quote\n",
    "print('It\\'s alright.')"
   ]
  },
  {
   "cell_type": "code",
   "execution_count": 40,
   "id": "345f0a46-d570-4e50-8a88-f5ead90e7463",
   "metadata": {
    "tags": []
   },
   "outputs": [
    {
     "name": "stdout",
     "output_type": "stream",
     "text": [
      "This will insert one \\ (backslash).\n"
     ]
    }
   ],
   "source": [
    "# Backslash\n",
    "print(\"This will insert one \\\\ (backslash).\")"
   ]
  },
  {
   "cell_type": "code",
   "execution_count": 41,
   "id": "7e33fcfe-e04b-4d0c-b5ee-12f7bf282d66",
   "metadata": {
    "tags": []
   },
   "outputs": [
    {
     "name": "stdout",
     "output_type": "stream",
     "text": [
      "Hello\n",
      "World!\n"
     ]
    }
   ],
   "source": [
    "# New Line\n",
    "print(\"Hello\\nWorld!\")"
   ]
  },
  {
   "cell_type": "code",
   "execution_count": 46,
   "id": "bf7caa16-9ae3-4c2e-84ad-d7445c8b9fac",
   "metadata": {
    "tags": []
   },
   "outputs": [
    {
     "name": "stdout",
     "output_type": "stream",
     "text": [
      "World!\n"
     ]
    }
   ],
   "source": [
    "# Carraige Return\n",
    "print(\"Hello\\rWorld!\")"
   ]
  },
  {
   "cell_type": "code",
   "execution_count": 47,
   "id": "918b5cf7-6895-4ccf-92cb-921f1655c23c",
   "metadata": {
    "tags": []
   },
   "outputs": [
    {
     "name": "stdout",
     "output_type": "stream",
     "text": [
      "Hello\tWorld!\n"
     ]
    }
   ],
   "source": [
    "# Tab\n",
    "print(\"Hello\\tWorld!\")"
   ]
  },
  {
   "cell_type": "code",
   "execution_count": 48,
   "id": "32d0706d-2ae6-4ae4-ba46-f108513ffccc",
   "metadata": {
    "tags": []
   },
   "outputs": [
    {
     "name": "stdout",
     "output_type": "stream",
     "text": [
      "HelloWorld!\n"
     ]
    }
   ],
   "source": [
    "# Backspace\n",
    "print(\"Hello \\bWorld!\")"
   ]
  },
  {
   "cell_type": "code",
   "execution_count": 49,
   "id": "b97c729f-a806-404a-ad8f-28dc59b4c8c3",
   "metadata": {
    "tags": []
   },
   "outputs": [
    {
     "name": "stdout",
     "output_type": "stream",
     "text": [
      "Hello\n"
     ]
    }
   ],
   "source": [
    "# Octal value\n",
    "print(\"\\110\\145\\154\\154\\157\")"
   ]
  },
  {
   "cell_type": "code",
   "execution_count": 54,
   "id": "5b4a749e-560e-4c96-8982-5f76f89b8fcf",
   "metadata": {
    "tags": []
   },
   "outputs": [
    {
     "name": "stdout",
     "output_type": "stream",
     "text": [
      "Hello\n"
     ]
    }
   ],
   "source": [
    "# Hex Value\n",
    "print(\"\\x48\\x65\\x6c\\x6c\\x6f\")"
   ]
  },
  {
   "cell_type": "markdown",
   "id": "7cea12c8-5f61-4888-a283-4ebf6d5d09b9",
   "metadata": {
    "jp-MarkdownHeadingCollapsed": true,
    "tags": []
   },
   "source": [
    "# type() function"
   ]
  },
  {
   "cell_type": "code",
   "execution_count": 108,
   "id": "dc06db19-a215-48ef-b7c6-6dade96ca890",
   "metadata": {
    "tags": []
   },
   "outputs": [
    {
     "name": "stdout",
     "output_type": "stream",
     "text": [
      "<class 'float'>\n",
      "<class 'str'>\n"
     ]
    }
   ],
   "source": [
    "print(type(3.14))\n",
    "\n",
    "print(type(\"3.14\"))"
   ]
  },
  {
   "cell_type": "code",
   "execution_count": 109,
   "id": "307fc4da-58ac-40e5-ba2d-6597066c6bd2",
   "metadata": {
    "tags": []
   },
   "outputs": [
    {
     "name": "stdout",
     "output_type": "stream",
     "text": [
      "<class 'bool'>\n",
      "<class 'int'>\n"
     ]
    }
   ],
   "source": [
    "print(type(True))\n",
    "\n",
    "print(type(2))"
   ]
  },
  {
   "cell_type": "markdown",
   "id": "f66a186e-41bc-431e-8e8d-040c4acf2ee1",
   "metadata": {
    "jp-MarkdownHeadingCollapsed": true,
    "tags": []
   },
   "source": [
    "## Type Conversion"
   ]
  },
  {
   "cell_type": "code",
   "execution_count": 110,
   "id": "136fa574-bb44-4441-aee9-37e68579c7f0",
   "metadata": {
    "tags": []
   },
   "outputs": [
    {
     "name": "stdout",
     "output_type": "stream",
     "text": [
      "1.0\n",
      "2\n",
      "(1+0j)\n",
      "<class 'float'>\n",
      "<class 'int'>\n",
      "<class 'complex'>\n"
     ]
    }
   ],
   "source": [
    "x = 1    # int\n",
    "y = 2.8  # float\n",
    "z = 1j   # complex\n",
    "\n",
    "#convert from int to float:\n",
    "a = float(x)\n",
    "\n",
    "#convert from float to int:\n",
    "b = int(y)\n",
    "\n",
    "#convert from int to complex:\n",
    "c = complex(x)\n",
    "\n",
    "print(a)\n",
    "print(b)\n",
    "print(c)\n",
    "\n",
    "print(type(a))\n",
    "print(type(b))\n",
    "print(type(c))"
   ]
  },
  {
   "cell_type": "markdown",
   "id": "12a0e57a-0a9c-45cc-aced-c209b4345fe9",
   "metadata": {
    "jp-MarkdownHeadingCollapsed": true,
    "tags": []
   },
   "source": [
    "# print() function arguments"
   ]
  },
  {
   "cell_type": "code",
   "execution_count": 56,
   "id": "e20d2368-f26e-40f6-b020-284050afb5f3",
   "metadata": {
    "tags": []
   },
   "outputs": [
    {
     "name": "stdout",
     "output_type": "stream",
     "text": [
      "I am 19 years old.\n",
      "The itsy bitsy spider climbed up the waterspout.\n",
      "The itsy bitsy spiderclimbed upthe waterspout.\n",
      "2 3\n",
      "5\n"
     ]
    }
   ],
   "source": [
    "print(\"I am\", 19, \"years old.\") \n",
    "\n",
    "print(\"The itsy bitsy spider\" , \"climbed up\" , \"the waterspout.\") \n",
    "\n",
    "print(\"The itsy bitsy spider\" + \"climbed up\" + \"the waterspout.\") \n",
    "\n",
    "print(2,3) \n",
    "\n",
    "print(2+3) "
   ]
  },
  {
   "cell_type": "markdown",
   "id": "db4ce5e8-d0aa-4209-9008-107e02ca4863",
   "metadata": {
    "jp-MarkdownHeadingCollapsed": true,
    "tags": []
   },
   "source": [
    "# len() function"
   ]
  },
  {
   "cell_type": "code",
   "execution_count": 63,
   "id": "2eec3dd0-7078-457e-a8dd-b56916321b6a",
   "metadata": {
    "tags": []
   },
   "outputs": [
    {
     "name": "stdout",
     "output_type": "stream",
     "text": [
      "88\n",
      "8\n"
     ]
    }
   ],
   "source": [
    "#len() - Counts the amount of characters\n",
    "print(len(\"SYUFXDFHUIFGXFUGCGHDHY8UGIDZUHGFD234234234242+++++++423FZGUXFUHGXDFGUHCFXUGHXCUGXCUGUGHD\"))\n"
   ]
  },
  {
   "cell_type": "code",
   "execution_count": 69,
   "id": "9f005c19-ef52-43da-8a32-07ddc5ba0221",
   "metadata": {
    "tags": []
   },
   "outputs": [
    {
     "name": "stdout",
     "output_type": "stream",
     "text": [
      "42\n"
     ]
    }
   ],
   "source": [
    "print(len(\"Uvuvwevwevwe Onyetenyevwe Ugwemubwem Ossas\"))"
   ]
  },
  {
   "cell_type": "code",
   "execution_count": 4,
   "id": "a3d2b167-8eed-45ff-a098-e9a397705831",
   "metadata": {
    "tags": []
   },
   "outputs": [
    {
     "name": "stdout",
     "output_type": "stream",
     "text": [
      "6\n"
     ]
    }
   ],
   "source": [
    "x = \"Test5*\"\n",
    "print(len(x))"
   ]
  },
  {
   "cell_type": "markdown",
   "id": "d3a02a8a-1df6-4fee-aa88-84cf1c3949cb",
   "metadata": {
    "jp-MarkdownHeadingCollapsed": true,
    "tags": []
   },
   "source": [
    "# Arithmetic Operators"
   ]
  },
  {
   "cell_type": "code",
   "execution_count": 89,
   "id": "fabee5c2-b0b1-483b-9fbe-d861dee4bfe1",
   "metadata": {
    "tags": []
   },
   "outputs": [
    {
     "data": {
      "text/plain": [
       "150"
      ]
     },
     "execution_count": 89,
     "metadata": {},
     "output_type": "execute_result"
    }
   ],
   "source": [
    "# Addition\n",
    "100 + 50"
   ]
  },
  {
   "cell_type": "code",
   "execution_count": 88,
   "id": "86b7bbff-a0e1-46d9-846e-fb301789b3c1",
   "metadata": {
    "tags": []
   },
   "outputs": [
    {
     "data": {
      "text/plain": [
       "50"
      ]
     },
     "execution_count": 88,
     "metadata": {},
     "output_type": "execute_result"
    }
   ],
   "source": [
    "# Subtraction\n",
    "100 - 50"
   ]
  },
  {
   "cell_type": "code",
   "execution_count": 87,
   "id": "3219f3a7-f231-4f45-a8ab-47b603bd75d3",
   "metadata": {
    "tags": []
   },
   "outputs": [
    {
     "data": {
      "text/plain": [
       "5000"
      ]
     },
     "execution_count": 87,
     "metadata": {},
     "output_type": "execute_result"
    }
   ],
   "source": [
    "# Multiplication\n",
    "100 * 50"
   ]
  },
  {
   "cell_type": "code",
   "execution_count": 92,
   "id": "21242e5d-3a2f-43b8-a305-d04c369aa41b",
   "metadata": {
    "tags": []
   },
   "outputs": [
    {
     "data": {
      "text/plain": [
       "2.0"
      ]
     },
     "execution_count": 92,
     "metadata": {},
     "output_type": "execute_result"
    }
   ],
   "source": [
    "# Division\n",
    "100 / 50"
   ]
  },
  {
   "cell_type": "code",
   "execution_count": 93,
   "id": "1dcbcedb-4274-4e8c-9836-923ac3994cdd",
   "metadata": {
    "tags": []
   },
   "outputs": [
    {
     "name": "stdout",
     "output_type": "stream",
     "text": [
      "3\n"
     ]
    }
   ],
   "source": [
    "# Modulus Operator - Prints the remainder\n",
    "print(15%6)"
   ]
  },
  {
   "cell_type": "code",
   "execution_count": 103,
   "id": "7734feeb-a4d2-4792-9a36-07c6ced78bc7",
   "metadata": {
    "tags": []
   },
   "outputs": [
    {
     "data": {
      "text/plain": [
       "100000"
      ]
     },
     "execution_count": 103,
     "metadata": {},
     "output_type": "execute_result"
    }
   ],
   "source": [
    "# Exponentiation\n",
    "10 ** 5"
   ]
  },
  {
   "cell_type": "code",
   "execution_count": 99,
   "id": "6ce0f197-58b7-4d51-a37c-2137797de2ac",
   "metadata": {
    "tags": []
   },
   "outputs": [
    {
     "data": {
      "text/plain": [
       "2"
      ]
     },
     "execution_count": 99,
     "metadata": {},
     "output_type": "execute_result"
    }
   ],
   "source": [
    "# Floor Division\n",
    "100 // 50"
   ]
  },
  {
   "cell_type": "code",
   "execution_count": 85,
   "id": "f8e93569-3bad-4aab-a7e6-13e957b365f5",
   "metadata": {
    "tags": []
   },
   "outputs": [
    {
     "name": "stdout",
     "output_type": "stream",
     "text": [
      "When you divide 12547891471 by 123\n",
      "Quotient 102015377 Remainder 100\n"
     ]
    }
   ],
   "source": [
    "print(\"When you divide\", 12547891471, \"by\", 123) \n",
    "print(\"Quotient\", 12547891471//123, \"Remainder\", 12547891471%123) "
   ]
  },
  {
   "cell_type": "markdown",
   "id": "19fa7875-50cc-4bfa-962f-48b47c4afe4d",
   "metadata": {
    "jp-MarkdownHeadingCollapsed": true,
    "tags": []
   },
   "source": [
    "# Comments"
   ]
  },
  {
   "cell_type": "code",
   "execution_count": 107,
   "id": "e76b1454-79ff-47b7-bf30-9ee0665f9324",
   "metadata": {
    "tags": []
   },
   "outputs": [
    {
     "name": "stdout",
     "output_type": "stream",
     "text": [
      "Comment\n"
     ]
    }
   ],
   "source": [
    "# A comment is made by using a hashtag\n",
    "\n",
    "''' Comment \n",
    " Comment \n",
    " Comment''' \n",
    " #Triple ' quote to be used to make multiple lines comment \n",
    "print(\"Comment\") "
   ]
  },
  {
   "cell_type": "markdown",
   "id": "48729648-8492-4cfd-a871-6d2cb990b207",
   "metadata": {
    "jp-MarkdownHeadingCollapsed": true,
    "tags": []
   },
   "source": [
    "# Variables"
   ]
  },
  {
   "cell_type": "code",
   "execution_count": null,
   "id": "50abf19d-b146-484b-b202-d7309416a8d1",
   "metadata": {},
   "outputs": [],
   "source": [
    "# A variable are containers of information that when run will output the information they are assigned"
   ]
  },
  {
   "cell_type": "code",
   "execution_count": 115,
   "id": "d32c90d5-36ab-42cf-a601-5b30464f35c6",
   "metadata": {
    "tags": []
   },
   "outputs": [
    {
     "name": "stdout",
     "output_type": "stream",
     "text": [
      "Steven\n"
     ]
    }
   ],
   "source": [
    "my_name = \"Steven\"\n",
    "print(my_name)"
   ]
  },
  {
   "cell_type": "code",
   "execution_count": 114,
   "id": "83e915ba-5aae-4582-9a31-b01830d3ab13",
   "metadata": {
    "tags": []
   },
   "outputs": [
    {
     "name": "stdout",
     "output_type": "stream",
     "text": [
      "23\n"
     ]
    }
   ],
   "source": [
    "my_age = 23\n",
    "print(my_age)"
   ]
  },
  {
   "cell_type": "code",
   "execution_count": 112,
   "id": "44b34dbb-db8e-4748-9947-4dcc936f1837",
   "metadata": {
    "tags": []
   },
   "outputs": [
    {
     "name": "stdout",
     "output_type": "stream",
     "text": [
      "UK\n"
     ]
    }
   ],
   "source": [
    "my_location =\"UK\"\n",
    "print(my_location)"
   ]
  },
  {
   "cell_type": "code",
   "execution_count": 136,
   "id": "4e4242b8-1359-4338-a141-910a46f0e54b",
   "metadata": {
    "tags": []
   },
   "outputs": [
    {
     "name": "stdout",
     "output_type": "stream",
     "text": [
      "The value of 'a' is:\n",
      "53\n",
      "\n",
      "The value of 'b' is:\n",
      "85\n",
      "\n",
      "The value of 'c' is:\n",
      "1113\n",
      "\n",
      "The value of 'd' is:\n",
      "1.5238095238095237\n"
     ]
    }
   ],
   "source": [
    "x = 32\n",
    "y = 21\n",
    "z = 53\n",
    "\n",
    "a = x + y\n",
    "b = x + z\n",
    "c = y * z\n",
    "d = x / y\n",
    "\n",
    "print (\"The value of 'a' is:\" )\n",
    "print (a)\n",
    "print ()\n",
    "print (\"The value of 'b' is:\" )\n",
    "print (b)\n",
    "print ()\n",
    "print (\"The value of 'c' is:\" )\n",
    "print (c)\n",
    "print ()\n",
    "print (\"The value of 'd' is:\" )\n",
    "print (d)"
   ]
  },
  {
   "cell_type": "code",
   "execution_count": 151,
   "id": "bd3525ec-e13a-44c3-be90-94a0818d418f",
   "metadata": {
    "tags": []
   },
   "outputs": [
    {
     "name": "stdout",
     "output_type": "stream",
     "text": [
      "Steven Laurie\n",
      "<class 'str'>\n",
      "13\n"
     ]
    }
   ],
   "source": [
    "my_name = \"Steven Laurie\"\n",
    "print(my_name)\n",
    "print(type(my_name))\n",
    "print(len(my_name))"
   ]
  },
  {
   "cell_type": "markdown",
   "id": "f13c175c-db9d-4057-b9b2-ee556ab39266",
   "metadata": {
    "jp-MarkdownHeadingCollapsed": true,
    "tags": []
   },
   "source": [
    "# input() function"
   ]
  },
  {
   "cell_type": "code",
   "execution_count": null,
   "id": "d1bbaaa5-aaa9-458a-8aa9-df629c0a63af",
   "metadata": {},
   "outputs": [],
   "source": [
    "# The input function is used to take an inputted value from the user"
   ]
  },
  {
   "cell_type": "code",
   "execution_count": 5,
   "id": "b9fa5bfa-fb64-4b68-b826-8ad6895aa4f6",
   "metadata": {
    "tags": []
   },
   "outputs": [
    {
     "name": "stdout",
     "output_type": "stream",
     "text": [
      "Tell me anything...\n"
     ]
    },
    {
     "name": "stdin",
     "output_type": "stream",
     "text": [
      " Hello\n"
     ]
    },
    {
     "name": "stdout",
     "output_type": "stream",
     "text": [
      "Hmm... Hello ... Really?\n"
     ]
    }
   ],
   "source": [
    "print(\"Tell me anything...\") \n",
    "anything = input()\n",
    "print (\"Hmm...\", anything, \"... Really?\")"
   ]
  },
  {
   "cell_type": "code",
   "execution_count": 172,
   "id": "8a0e8ce1-2722-449b-9b47-ea77a4053f2d",
   "metadata": {
    "tags": []
   },
   "outputs": [
    {
     "name": "stdout",
     "output_type": "stream",
     "text": [
      "x = 7 and y = 5\n",
      "If z = x * y\n",
      "\n"
     ]
    },
    {
     "name": "stdin",
     "output_type": "stream",
     "text": [
      "What is z? 35\n"
     ]
    },
    {
     "name": "stdout",
     "output_type": "stream",
     "text": [
      "Correct, Well done!\n"
     ]
    }
   ],
   "source": [
    "print(\"x = 7 and y = 5\")\n",
    "print(\"If z = x * y\")\n",
    "print()\n",
    "answer=input(\"What is z?\")\n",
    "\n",
    "if answer == \"35\":\n",
    "    print(\"Correct, Well done!\")\n",
    "else:\n",
    "    print(\"Wrong Answer\")"
   ]
  },
  {
   "cell_type": "markdown",
   "id": "f8db3798-4e15-4e3d-9819-0053799d571a",
   "metadata": {
    "jp-MarkdownHeadingCollapsed": true,
    "tags": []
   },
   "source": [
    "# Design a calculator that will get two numbers from user, make arithmetic operations and display the result. "
   ]
  },
  {
   "cell_type": "code",
   "execution_count": 6,
   "id": "e64c7f03-c2f3-41be-a3c1-babb0382a2f0",
   "metadata": {
    "tags": []
   },
   "outputs": [
    {
     "name": "stdin",
     "output_type": "stream",
     "text": [
      "Please enter a number: 5\n",
      "Please enter another number: 4\n"
     ]
    },
    {
     "name": "stdout",
     "output_type": "stream",
     "text": [
      "\n",
      "Addition of 5 and 4 = 9\n",
      "Subtraction of 5 and 4 = 1\n",
      "Division of 5 and 4 = 1.25\n",
      "Multiplication of 5 and 4 = 20\n"
     ]
    }
   ],
   "source": [
    "X = int(input(\"Please enter a number:\"))  \n",
    "Y = int(input(\"Please enter another number:\")) \n",
    "\n",
    "print()\n",
    "\n",
    "print(\"Addition of\", X, \"and\", Y, \"=\", X+Y)\n",
    "print(\"Subtraction of\", X, \"and\", Y, \"=\", X-Y) \n",
    "print(\"Division of\", X, \"and\", Y, \"=\", X/Y)\n",
    "print(\"Multiplication of\", X, \"and\", Y, \"=\", X*Y) "
   ]
  },
  {
   "cell_type": "markdown",
   "id": "2e87ce98-69ae-49a1-b597-cb1a892b7cb9",
   "metadata": {
    "jp-MarkdownHeadingCollapsed": true,
    "tags": []
   },
   "source": [
    "# Write a python code to convert values enetered by user from mile to km or from km to mile\n"
   ]
  },
  {
   "cell_type": "code",
   "execution_count": 223,
   "id": "f678c9dc-3a80-42bc-b593-098278cf1997",
   "metadata": {
    "tags": []
   },
   "outputs": [
    {
     "name": "stdin",
     "output_type": "stream",
     "text": [
      "Please enter value in Kilometres: 150\n"
     ]
    },
    {
     "name": "stdout",
     "output_type": "stream",
     "text": [
      "150 Kilometres in Miles = 93\n"
     ]
    }
   ],
   "source": [
    "Kilometres = int(input(\"Please enter value in Kilometres:\"))\n",
    "Miles = Kilometres/1.609\n",
    "\n",
    "print(Kilometres, \"Kilometres in Miles =\", round(Miles))"
   ]
  },
  {
   "cell_type": "code",
   "execution_count": 224,
   "id": "1ee1265e-dc29-4b91-ac34-3471be3ca29f",
   "metadata": {
    "tags": []
   },
   "outputs": [
    {
     "name": "stdin",
     "output_type": "stream",
     "text": [
      "Please enter value in Miles: 150\n"
     ]
    },
    {
     "name": "stdout",
     "output_type": "stream",
     "text": [
      "150 Miles in Kilometres = 241\n"
     ]
    }
   ],
   "source": [
    "Miles = int(input(\"Please enter value in Miles:\"))\n",
    "Kilometres = Miles*1.609\n",
    "\n",
    "print(Miles, \"Miles in Kilometres =\", round(Kilometres))"
   ]
  },
  {
   "cell_type": "markdown",
   "id": "2dce0b60-0c3e-422c-8b76-36c909b4b64f",
   "metadata": {
    "jp-MarkdownHeadingCollapsed": true,
    "tags": []
   },
   "source": [
    "# Write a Python program to calculate the area of a rectangle given its length and width. "
   ]
  },
  {
   "cell_type": "code",
   "execution_count": 250,
   "id": "dd81d5f2-af58-42bd-8655-336d10b77f4c",
   "metadata": {
    "tags": []
   },
   "outputs": [
    {
     "name": "stdin",
     "output_type": "stream",
     "text": [
      "Enter Length 20\n",
      "Enter Width 5\n"
     ]
    },
    {
     "name": "stdout",
     "output_type": "stream",
     "text": [
      "Area = 100.0\n"
     ]
    }
   ],
   "source": [
    "length = float(input(\"Enter Length\"))\n",
    "width = float(input(\"Enter Width\"))\n",
    "\n",
    "area = length * width\n",
    "print(\"Area =\", area)"
   ]
  },
  {
   "cell_type": "markdown",
   "id": "0c226fae-f283-42e7-9328-63139ee330dd",
   "metadata": {
    "jp-MarkdownHeadingCollapsed": true,
    "tags": []
   },
   "source": [
    "# Write a Python program which accepts the radius of a circle from the user and compute the area."
   ]
  },
  {
   "cell_type": "code",
   "execution_count": 259,
   "id": "26b122b5-47a7-4ec7-a7ce-b3600ff80f1c",
   "metadata": {
    "tags": []
   },
   "outputs": [
    {
     "name": "stdin",
     "output_type": "stream",
     "text": [
      "Enter Radius 3\n"
     ]
    },
    {
     "name": "stdout",
     "output_type": "stream",
     "text": [
      "Area = 28.259999999999998\n"
     ]
    }
   ],
   "source": [
    "radius = float(input(\"Enter Radius\"))\n",
    "\n",
    "area = 3.14 * radius * radius\n",
    "print(\"Area =\", area)"
   ]
  },
  {
   "cell_type": "markdown",
   "id": "36e0ea52-24f1-4074-bba8-94360d0844af",
   "metadata": {
    "jp-MarkdownHeadingCollapsed": true,
    "tags": []
   },
   "source": [
    "# Convert temperature from Celsius to Fahrenheit."
   ]
  },
  {
   "cell_type": "code",
   "execution_count": 261,
   "id": "2f61049f-711b-462c-8d77-3631ed256522",
   "metadata": {
    "tags": []
   },
   "outputs": [
    {
     "name": "stdin",
     "output_type": "stream",
     "text": [
      "Enter Celsius 3\n"
     ]
    },
    {
     "name": "stdout",
     "output_type": "stream",
     "text": [
      "Temperature in Fahrenheit: 37.4\n"
     ]
    }
   ],
   "source": [
    "celsius = float(input(\"Enter Celsius\"))\n",
    "fahrenheit = (1.8 * celsius +32)\n",
    "print(\"Temperature in Fahrenheit:\", fahrenheit)"
   ]
  },
  {
   "cell_type": "markdown",
   "id": "1d02c787-312b-41a9-8dad-7cea04d1625f",
   "metadata": {
    "jp-MarkdownHeadingCollapsed": true,
    "tags": []
   },
   "source": [
    "# Implement a program that converts a given number from a user of minutes into hours and minutes"
   ]
  },
  {
   "cell_type": "code",
   "execution_count": 4,
   "id": "135124bc-6050-4710-8693-e38bf7b4cfa4",
   "metadata": {
    "tags": []
   },
   "outputs": [
    {
     "name": "stdin",
     "output_type": "stream",
     "text": [
      "Enter Minutes  587\n"
     ]
    },
    {
     "name": "stdout",
     "output_type": "stream",
     "text": [
      "9 Hours and 47 Minutes\n"
     ]
    }
   ],
   "source": [
    "minutes = int(input(\"Enter Minutes \")) \n",
    "hours = minutes//60 \n",
    "remainder_mins = minutes%60 \n",
    "print(round(hours), \"Hours and\", remainder_mins, \"Minutes\") "
   ]
  },
  {
   "cell_type": "markdown",
   "id": "bb20db4b-202f-45f6-ba82-64b1957c0336",
   "metadata": {
    "jp-MarkdownHeadingCollapsed": true,
    "tags": []
   },
   "source": [
    "# Your task is to complete the code in order to evaluate the following expression:"
   ]
  },
  {
   "cell_type": "code",
   "execution_count": 5,
   "id": "737505c4-6a5c-4e72-a64a-1722f4a15005",
   "metadata": {
    "tags": []
   },
   "outputs": [
    {
     "name": "stdout",
     "output_type": "stream",
     "text": [
      "0.6000000000000001\n"
     ]
    }
   ],
   "source": [
    "x = 1 \n",
    "#y =1/x+1/(x+1/(x+1/x)) \n",
    "y =1/(x+(1/(x+(1/(x +1/x))))) \n",
    "print(y) "
   ]
  },
  {
   "cell_type": "code",
   "execution_count": 9,
   "id": "a26dc769-d380-49ba-9f97-be627db06cf9",
   "metadata": {
    "tags": []
   },
   "outputs": [
    {
     "name": "stdin",
     "output_type": "stream",
     "text": [
      "Please enter a number: 1\n"
     ]
    },
    {
     "name": "stdout",
     "output_type": "stream",
     "text": [
      "0.6000000000000001\n"
     ]
    }
   ],
   "source": [
    "x = float(input(\"Please enter a number:\"))\n",
    "y = print(1/(x+1/(x+1/(x+1/x))))\n"
   ]
  },
  {
   "cell_type": "code",
   "execution_count": 278,
   "id": "3e12e963-f08c-4626-b5fa-e96e390a93a9",
   "metadata": {
    "tags": []
   },
   "outputs": [
    {
     "name": "stdin",
     "output_type": "stream",
     "text": [
      "Enter value 1\n"
     ]
    },
    {
     "name": "stdout",
     "output_type": "stream",
     "text": [
      "0.6000000000000001\n"
     ]
    }
   ],
   "source": [
    "x = int(input(\"Enter value\"))\n",
    "y =1/(x+(1/(x+(1/(x +1/x))))) \n",
    "print(y) "
   ]
  }
 ],
 "metadata": {
  "kernelspec": {
   "display_name": "Python 3 (ipykernel)",
   "language": "python",
   "name": "python3"
  },
  "language_info": {
   "codemirror_mode": {
    "name": "ipython",
    "version": 3
   },
   "file_extension": ".py",
   "mimetype": "text/x-python",
   "name": "python",
   "nbconvert_exporter": "python",
   "pygments_lexer": "ipython3",
   "version": "3.11.5"
  }
 },
 "nbformat": 4,
 "nbformat_minor": 5
}
